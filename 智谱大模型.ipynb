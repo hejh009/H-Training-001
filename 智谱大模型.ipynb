{
 "cells": [
  {
   "cell_type": "code",
   "execution_count": 1,
   "id": "89314c47-f1e3-4e17-b795-ccf7f6212ea3",
   "metadata": {},
   "outputs": [],
   "source": [
    "import os\n",
    "from zhipuai import ZhipuAI\n",
    "import base64\n",
    "\n",
    "os.environ['ZHIPUAI_API_KEY'] = 'f568d0dfa8d69d99ad53a4424c9f9345.pyb7mnSYZ943jABI'\n",
    "\n",
    "client = ZhipuAI()"
   ]
  },
  {
   "cell_type": "code",
   "execution_count": 4,
   "id": "2d6252ac-adfb-4ff2-8648-525045ce81c1",
   "metadata": {},
   "outputs": [
    {
     "name": "stdout",
     "output_type": "stream",
     "text": [
      "................................\n",
      "CompletionMessage(content='该视频是一段在体育赛事中拍摄的Vlog。视频开始时，镜头对准了一位身穿白色球衣的男子，他正在展示一件红色的T恤，随后镜头切换到一位身穿蓝色上衣的男子，他在机场的大厅里对着镜头介绍着什么。接着，画面转到了一场足球比赛中，球员们正在场上比赛，观众席上的球迷们也在为球队加油助威。\\n\\n在视频中，我们可以看到一些精彩的进球瞬间和激烈的比赛场面。其中，一名球员在禁区内射门得分，另一名球员则通过头球攻破了对手的大门。此外，还有许多球迷在场边挥舞着国旗，高唱国歌，表达他们对球队的热爱和支持。\\n\\n整个视频中，拍摄者使用了多种拍摄手法，如平移、俯拍、仰拍等，以捕捉不同的场景和细节。同时，他还运用了音乐和特效等手段，增强了视频的表现力和观赏性。\\n\\n总的来说，这是一段充满激情和活力的Vlog，展示了体育赛事的魅力和观众的狂热。', role='assistant', tool_calls=None)\n"
     ]
    }
   ],
   "source": [
    "video_path = '国柱.mp4'\n",
    "with open(video_path,'rb') as video_file:\n",
    "    video_base = base64.b64encode(video_file.read()).decode('utf-8')\n",
    "    \n",
    "print('................................')\n",
    "\n",
    "response = client.chat.completions.create(\n",
    "    model = 'glm-4v-plus',\n",
    "    temperature = 0.0,\n",
    "    top_p = 0,\n",
    "    \n",
    "    messages = [{\n",
    "        'role':'user',\n",
    "        'content':[{\n",
    "            'type':'video_url',\n",
    "            'video_url':{'url':video_base}\n",
    "        },{\n",
    "            'type':'text',\n",
    "            'text':'请描述视频主要内容，用专业的语言来描述'\n",
    "        }]\n",
    "    }]\n",
    ")\n",
    "\n",
    "print(response.choices[0].message)"
   ]
  },
  {
   "cell_type": "code",
   "execution_count": null,
   "id": "055e0f17-505e-461b-8cee-0951a66958d1",
   "metadata": {},
   "outputs": [],
   "source": []
  }
 ],
 "metadata": {
  "kernelspec": {
   "display_name": "Python 3 (ipykernel)",
   "language": "python",
   "name": "python3"
  },
  "language_info": {
   "codemirror_mode": {
    "name": "ipython",
    "version": 3
   },
   "file_extension": ".py",
   "mimetype": "text/x-python",
   "name": "python",
   "nbconvert_exporter": "python",
   "pygments_lexer": "ipython3",
   "version": "3.9.7"
  }
 },
 "nbformat": 4,
 "nbformat_minor": 5
}

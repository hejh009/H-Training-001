{
 "cells": [
  {
   "cell_type": "code",
   "execution_count": 7,
   "id": "c1c57238-a709-4999-9324-9bff19317524",
   "metadata": {},
   "outputs": [],
   "source": [
    "from zhipuai import ZhipuAI"
   ]
  },
  {
   "cell_type": "code",
   "execution_count": 4,
   "id": "669dd004-35c0-4423-9717-a1a40b98fa38",
   "metadata": {},
   "outputs": [
    {
     "name": "stdout",
     "output_type": "stream",
     "text": [
      "Looking in indexes: https://pypi.tuna.tsinghua.edu.cn/simpleNote: you may need to restart the kernel to use updated packages.\n",
      "Requirement already satisfied: zhipuai in c:\\programdata\\anaconda3\\lib\\site-packages (2.1.5.20230904)\n",
      "Requirement already satisfied: pyjwt<2.9.0,>=2.8.0 in c:\\programdata\\anaconda3\\lib\\site-packages (from zhipuai) (2.8.0)\n",
      "Requirement already satisfied: pydantic-core>=2.14.6 in c:\\programdata\\anaconda3\\lib\\site-packages (from zhipuai) (2.27.0)\n",
      "\n",
      "Requirement already satisfied: httpx>=0.23.0 in c:\\programdata\\anaconda3\\lib\\site-packages (from zhipuai) (0.27.2)\n",
      "Requirement already satisfied: cachetools>=4.2.2 in c:\\programdata\\anaconda3\\lib\\site-packages (from zhipuai) (5.5.0)\n",
      "Requirement already satisfied: pydantic<3.0,>=1.9.0 in c:\\programdata\\anaconda3\\lib\\site-packages (from zhipuai) (2.10.0)\n",
      "Requirement already satisfied: idna in c:\\programdata\\anaconda3\\lib\\site-packages (from httpx>=0.23.0->zhipuai) (3.2)\n",
      "Requirement already satisfied: sniffio in c:\\programdata\\anaconda3\\lib\\site-packages (from httpx>=0.23.0->zhipuai) (1.2.0)\n",
      "Requirement already satisfied: anyio in c:\\programdata\\anaconda3\\lib\\site-packages (from httpx>=0.23.0->zhipuai) (2.2.0)\n",
      "Requirement already satisfied: httpcore==1.* in c:\\programdata\\anaconda3\\lib\\site-packages (from httpx>=0.23.0->zhipuai) (1.0.7)\n",
      "Requirement already satisfied: certifi in c:\\programdata\\anaconda3\\lib\\site-packages (from httpx>=0.23.0->zhipuai) (2021.10.8)\n",
      "Requirement already satisfied: h11<0.15,>=0.13 in c:\\programdata\\anaconda3\\lib\\site-packages (from httpcore==1.*->httpx>=0.23.0->zhipuai) (0.14.0)\n",
      "Requirement already satisfied: typing-extensions>=4.12.2 in c:\\programdata\\anaconda3\\lib\\site-packages (from pydantic<3.0,>=1.9.0->zhipuai) (4.12.2)\n",
      "Requirement already satisfied: annotated-types>=0.6.0 in c:\\programdata\\anaconda3\\lib\\site-packages (from pydantic<3.0,>=1.9.0->zhipuai) (0.7.0)\n"
     ]
    }
   ],
   "source": [
    "#pip install zhipuai -i https://pypi.tuna.tsinghua.edu.cn/simple"
   ]
  },
  {
   "cell_type": "code",
   "execution_count": 29,
   "id": "14c4c883-783a-4c9d-a4c2-ae5f916eddcc",
   "metadata": {},
   "outputs": [
    {
     "name": "stdout",
     "output_type": "stream",
     "text": [
      "VideoObject(id='58811732090544757-9221302274440689864', model='cogvideox', video_result=None, task_status='PROCESSING', request_id='-9221302274440689865')\n"
     ]
    }
   ],
   "source": [
    "from zhipuai import ZhipuAI\n",
    "client = ZhipuAI(api_key = 'f568d0dfa8d69d99ad53a4424c9f9345.pyb7mnSYZ943jABI')\n",
    "\n",
    "response11 = client.videos.generations(\n",
    "    model = 'cogvideox',\n",
    "    prompt = '帮我生成小猫在草坪上玩耍的视频'\n",
    ")\n",
    "print(response11)"
   ]
  },
  {
   "cell_type": "code",
   "execution_count": null,
   "id": "76ddac58-584e-43fa-a9b8-a8f0716dac5c",
   "metadata": {},
   "outputs": [],
   "source": [
    "#id = '58811732090544757-9221298735386565052', request_id = '-9221298735386565053' model = ''\n",
    "#task_status = ''"
   ]
  },
  {
   "cell_type": "code",
   "execution_count": null,
   "id": "938d18e4-01f5-40c0-a40f-79c4ce2b50a5",
   "metadata": {},
   "outputs": [],
   "source": []
  },
  {
   "cell_type": "code",
   "execution_count": 33,
   "id": "0194f60c-53de-4226-a1de-c80323538cf5",
   "metadata": {},
   "outputs": [
    {
     "name": "stdout",
     "output_type": "stream",
     "text": [
      "VideoObject(id=None, model='cogvideox', video_result=[VideoResult(url='https://aigc-files.bigmodel.cn/api/cogvideo/0e5f225a-a7d7-11ef-a354-628f45da38f5_0.mp4', cover_image_url='https://aigc-files.bigmodel.cn/api/cogvideo/0e5f225a-a7d7-11ef-a354-628f45da38f5_cover_0.jpeg')], task_status='SUCCESS', request_id='-9221302274440689865')\n"
     ]
    }
   ],
   "source": [
    "from zhipuai import ZhipuAI\n",
    "client = ZhipuAI(api_key = 'f568d0dfa8d69d99ad53a4424c9f9345.pyb7mnSYZ943jABI')\n",
    "\n",
    "response12 = client.videos.retrieve_videos_result(\n",
    "    id='58811732090544757-9221302274440689864'\n",
    ")\n",
    "print(response12)"
   ]
  },
  {
   "cell_type": "markdown",
   "id": "32f49b8d-1915-4b17-9e17-47943282d78d",
   "metadata": {},
   "source": [
    "----------"
   ]
  },
  {
   "cell_type": "code",
   "execution_count": 34,
   "id": "50fd284a-f9c3-409c-86ce-c42719b6cdac",
   "metadata": {},
   "outputs": [
    {
     "name": "stdout",
     "output_type": "stream",
     "text": [
      "VideoObject(id='58811732090544757-9221301862123345404', model='cogvideox', video_result=None, task_status='PROCESSING', request_id='-9221301862123345405')\n"
     ]
    }
   ],
   "source": [
    "from zhipuai import ZhipuAI\n",
    "client = ZhipuAI(api_key = 'f568d0dfa8d69d99ad53a4424c9f9345.pyb7mnSYZ943jABI')\n",
    "\n",
    "response2 = client.videos.generations(\n",
    "    model = 'cogvideox',\n",
    "    prompt = '捣蛋小猫：一只黑色的小猫在家里的客厅里上蹿下跳，它把沙发上的靠垫弄得到处都是，还把茶几上的小物件一个个拨到地上，然后坐在一片狼藉中，一脸无辜地看着镜头，仿佛在说 “不是我干的”。'\n",
    ")\n",
    "print(response2)"
   ]
  },
  {
   "cell_type": "code",
   "execution_count": 37,
   "id": "1db0aae5-bf25-4527-b8d2-cfc7b0f43a50",
   "metadata": {},
   "outputs": [
    {
     "name": "stdout",
     "output_type": "stream",
     "text": [
      "VideoObject(id=None, model='cogvideox', video_result=[VideoResult(url='https://aigc-files.bigmodel.cn/api/cogvideo/981d7bac-a7d9-11ef-bd78-9ee7942420ea_0.mp4', cover_image_url='https://aigc-files.bigmodel.cn/api/cogvideo/981d7bac-a7d9-11ef-bd78-9ee7942420ea_cover_0.jpeg')], task_status='SUCCESS', request_id='-9221301862123345405')\n"
     ]
    }
   ],
   "source": [
    "from zhipuai import ZhipuAI\n",
    "client = ZhipuAI(api_key = 'f568d0dfa8d69d99ad53a4424c9f9345.pyb7mnSYZ943jABI')\n",
    "\n",
    "response32 = client.videos.retrieve_videos_result(\n",
    "    id='58811732090544757-9221301862123345404'\n",
    ")\n",
    "print(response32)"
   ]
  },
  {
   "cell_type": "markdown",
   "id": "e2297566-120f-47f2-9ddb-a71b4c1532b7",
   "metadata": {},
   "source": [
    "---------------------------"
   ]
  },
  {
   "cell_type": "code",
   "execution_count": 39,
   "id": "9d31d4e3-7111-499f-9cd5-7930d71273a1",
   "metadata": {},
   "outputs": [
    {
     "name": "stdout",
     "output_type": "stream",
     "text": [
      "VideoObject(id='58811732090544757-9221298460508296668', model='cogvideox', video_result=None, task_status='PROCESSING', request_id='-9221298460508296669')\n"
     ]
    }
   ],
   "source": [
    "from zhipuai import ZhipuAI\n",
    "client = ZhipuAI(api_key = 'f568d0dfa8d69d99ad53a4424c9f9345.pyb7mnSYZ943jABI')\n",
    "\n",
    "response4 = client.videos.generations(\n",
    "    model = 'cogvideox',\n",
    "    prompt = '中国古代，两个侠客在屋顶上对决，决战紫禁之巅，在夜晚，有月光照射，电影质感'\n",
    ")\n",
    "print(response4)"
   ]
  },
  {
   "cell_type": "code",
   "execution_count": 43,
   "id": "c826549a-7726-468e-8bfb-c9ea794a8915",
   "metadata": {},
   "outputs": [
    {
     "name": "stdout",
     "output_type": "stream",
     "text": [
      "VideoObject(id=None, model='cogvideox', video_result=[VideoResult(url='https://aigc-files.bigmodel.cn/api/cogvideo/c57299ce-a7da-11ef-bd78-9ee7942420ea_0.mp4', cover_image_url='https://aigc-files.bigmodel.cn/api/cogvideo/c57299ce-a7da-11ef-bd78-9ee7942420ea_cover_0.jpeg')], task_status='SUCCESS', request_id='-9221298460508296669')\n"
     ]
    }
   ],
   "source": [
    "from zhipuai import ZhipuAI\n",
    "client = ZhipuAI(api_key = 'f568d0dfa8d69d99ad53a4424c9f9345.pyb7mnSYZ943jABI')\n",
    "\n",
    "response41 = client.videos.retrieve_videos_result(\n",
    "    id='58811732090544757-9221298460508296668'\n",
    ")\n",
    "print(response41)"
   ]
  },
  {
   "cell_type": "markdown",
   "id": "84449082-6cec-4001-a163-5682c519f2e8",
   "metadata": {},
   "source": [
    "------------------"
   ]
  },
  {
   "cell_type": "code",
   "execution_count": null,
   "id": "13f1635c-3f5d-44a2-acb0-398bf019c30c",
   "metadata": {},
   "outputs": [],
   "source": []
  },
  {
   "cell_type": "code",
   "execution_count": null,
   "id": "996b484f-bdbd-496f-b7cb-f3ac22eb8dae",
   "metadata": {},
   "outputs": [],
   "source": []
  },
  {
   "cell_type": "code",
   "execution_count": null,
   "id": "8281193e-1a21-4f85-8e33-c2e7632cbae1",
   "metadata": {},
   "outputs": [],
   "source": []
  },
  {
   "cell_type": "code",
   "execution_count": null,
   "id": "77b56464-56ae-46fa-98cd-0ae8fda266e4",
   "metadata": {},
   "outputs": [],
   "source": []
  },
  {
   "cell_type": "code",
   "execution_count": null,
   "id": "21b5eb1b-8ea4-4a7b-92ff-e02221d2dbb3",
   "metadata": {},
   "outputs": [],
   "source": []
  },
  {
   "cell_type": "code",
   "execution_count": null,
   "id": "b5e8324d-0603-412a-ad7b-698137be0e53",
   "metadata": {},
   "outputs": [],
   "source": []
  },
  {
   "cell_type": "code",
   "execution_count": null,
   "id": "a1ea96f4-0544-452b-a396-f5dd1e424f20",
   "metadata": {},
   "outputs": [],
   "source": []
  },
  {
   "cell_type": "code",
   "execution_count": null,
   "id": "7ee80095-1bc8-4228-803a-1e3017a30ce6",
   "metadata": {},
   "outputs": [],
   "source": []
  },
  {
   "cell_type": "code",
   "execution_count": null,
   "id": "738ef67f-d9a4-455c-991e-503755d35a67",
   "metadata": {},
   "outputs": [],
   "source": []
  },
  {
   "cell_type": "code",
   "execution_count": null,
   "id": "110deaba-d3b8-42d1-ae66-c77a67fefea9",
   "metadata": {},
   "outputs": [],
   "source": []
  },
  {
   "cell_type": "code",
   "execution_count": null,
   "id": "4c39f294-bd47-4819-aae7-c02e056e8aff",
   "metadata": {},
   "outputs": [],
   "source": []
  },
  {
   "cell_type": "code",
   "execution_count": null,
   "id": "c87dfc31-6e42-41ff-970d-1fabcadab3c9",
   "metadata": {},
   "outputs": [],
   "source": []
  },
  {
   "cell_type": "code",
   "execution_count": null,
   "id": "ca7c64c3-a5d6-4ca7-8a54-eb1769446596",
   "metadata": {},
   "outputs": [],
   "source": []
  },
  {
   "cell_type": "code",
   "execution_count": null,
   "id": "583dad62-90c3-4e9d-b296-db792fbfd549",
   "metadata": {},
   "outputs": [],
   "source": []
  },
  {
   "cell_type": "code",
   "execution_count": null,
   "id": "96ea7a54-2a4e-4550-b376-05ab97555636",
   "metadata": {},
   "outputs": [],
   "source": []
  },
  {
   "cell_type": "code",
   "execution_count": null,
   "id": "06ea94f7-2961-4110-883e-d9b3bcf462ea",
   "metadata": {},
   "outputs": [],
   "source": []
  },
  {
   "cell_type": "code",
   "execution_count": null,
   "id": "fae9457d-a879-4151-8741-7fe7702d0608",
   "metadata": {},
   "outputs": [],
   "source": []
  },
  {
   "cell_type": "code",
   "execution_count": null,
   "id": "8b9e7bd0-000f-48c7-8911-a71d3ac265f9",
   "metadata": {},
   "outputs": [],
   "source": []
  },
  {
   "cell_type": "code",
   "execution_count": null,
   "id": "19c67d4d-6137-4776-b29c-e6647d3d60aa",
   "metadata": {},
   "outputs": [],
   "source": []
  },
  {
   "cell_type": "code",
   "execution_count": null,
   "id": "abcf795a-cffa-47c5-a4f1-ec31ac9720dd",
   "metadata": {},
   "outputs": [],
   "source": []
  },
  {
   "cell_type": "code",
   "execution_count": null,
   "id": "4d8270a8-8a48-45f5-ae8f-76f1e4a1f1b5",
   "metadata": {},
   "outputs": [],
   "source": []
  },
  {
   "cell_type": "code",
   "execution_count": null,
   "id": "a251961c-7c81-43d5-a012-940508c5be42",
   "metadata": {},
   "outputs": [],
   "source": []
  },
  {
   "cell_type": "code",
   "execution_count": null,
   "id": "8f4562d6-0a93-4a27-90f5-b24a58af283c",
   "metadata": {},
   "outputs": [],
   "source": []
  },
  {
   "cell_type": "code",
   "execution_count": null,
   "id": "f294eb48-5cdc-45f4-8292-bbf76c1e60c6",
   "metadata": {},
   "outputs": [],
   "source": []
  },
  {
   "cell_type": "code",
   "execution_count": null,
   "id": "0f349cad-e298-4fc5-9417-f2493a340696",
   "metadata": {},
   "outputs": [],
   "source": []
  },
  {
   "cell_type": "code",
   "execution_count": null,
   "id": "122b1ce1-9900-410d-b29a-769356979e61",
   "metadata": {},
   "outputs": [],
   "source": []
  },
  {
   "cell_type": "code",
   "execution_count": null,
   "id": "c167f49b-83c7-4e00-81ee-307b497029fe",
   "metadata": {},
   "outputs": [],
   "source": []
  },
  {
   "cell_type": "code",
   "execution_count": null,
   "id": "c29d407b-4189-4cc5-b4d9-95f32db59729",
   "metadata": {},
   "outputs": [],
   "source": []
  },
  {
   "cell_type": "code",
   "execution_count": null,
   "id": "df1aa676-d1c4-46a0-8488-a2b03c173189",
   "metadata": {},
   "outputs": [],
   "source": []
  },
  {
   "cell_type": "code",
   "execution_count": null,
   "id": "86b22dda-07ea-41a9-8746-aabce11a1d50",
   "metadata": {},
   "outputs": [],
   "source": []
  },
  {
   "cell_type": "code",
   "execution_count": null,
   "id": "44b8f425-15f7-4515-a195-e843216b77d9",
   "metadata": {},
   "outputs": [],
   "source": []
  },
  {
   "cell_type": "code",
   "execution_count": null,
   "id": "dace6d0c-6c0f-4f61-9a53-e4ffd154f4cf",
   "metadata": {},
   "outputs": [],
   "source": []
  },
  {
   "cell_type": "code",
   "execution_count": null,
   "id": "589ca5e7-eec1-472b-9bc6-be5a305c8a4b",
   "metadata": {},
   "outputs": [],
   "source": []
  },
  {
   "cell_type": "code",
   "execution_count": null,
   "id": "752d9005-c4ae-4ccc-910b-bb92d0befcd1",
   "metadata": {},
   "outputs": [],
   "source": []
  },
  {
   "cell_type": "code",
   "execution_count": null,
   "id": "e8fbddaf-1125-4c7b-8051-245134604acd",
   "metadata": {},
   "outputs": [],
   "source": []
  },
  {
   "cell_type": "code",
   "execution_count": null,
   "id": "350c2646-e336-4199-aa3c-a4f38a29daa8",
   "metadata": {},
   "outputs": [],
   "source": []
  },
  {
   "cell_type": "code",
   "execution_count": null,
   "id": "167cac03-4453-4e03-be2c-3bc8ae4dafc8",
   "metadata": {},
   "outputs": [],
   "source": []
  },
  {
   "cell_type": "code",
   "execution_count": null,
   "id": "c9d57f6b-137d-4555-9b3d-1eeceb56e8c3",
   "metadata": {},
   "outputs": [],
   "source": []
  },
  {
   "cell_type": "code",
   "execution_count": null,
   "id": "2fabefba-0821-479f-8771-965468f3445b",
   "metadata": {},
   "outputs": [],
   "source": []
  },
  {
   "cell_type": "code",
   "execution_count": null,
   "id": "8144cde2-9f3e-4305-8269-7e6113766838",
   "metadata": {},
   "outputs": [],
   "source": []
  },
  {
   "cell_type": "code",
   "execution_count": null,
   "id": "a62e01d5-c99e-4cb9-aa07-9f6219ecc18d",
   "metadata": {},
   "outputs": [],
   "source": []
  },
  {
   "cell_type": "code",
   "execution_count": null,
   "id": "8ed56f7b-140c-4654-81a9-91f411e0a0ba",
   "metadata": {},
   "outputs": [],
   "source": []
  },
  {
   "cell_type": "code",
   "execution_count": null,
   "id": "11e05617-cafb-41c5-9566-f0e738ec311d",
   "metadata": {},
   "outputs": [],
   "source": []
  },
  {
   "cell_type": "code",
   "execution_count": null,
   "id": "8ac4695e-aa6c-4fe3-841f-1d9d52ec4da6",
   "metadata": {},
   "outputs": [],
   "source": []
  },
  {
   "cell_type": "code",
   "execution_count": null,
   "id": "dfdbf048-2c1c-4639-8721-d27bad2d27a3",
   "metadata": {},
   "outputs": [],
   "source": []
  },
  {
   "cell_type": "code",
   "execution_count": null,
   "id": "6c4b2e47-db5d-46e1-8e0a-6f8d465a2f08",
   "metadata": {},
   "outputs": [],
   "source": []
  },
  {
   "cell_type": "code",
   "execution_count": null,
   "id": "195649dc-5121-4720-8cf1-d9b327214a2e",
   "metadata": {},
   "outputs": [],
   "source": []
  },
  {
   "cell_type": "code",
   "execution_count": null,
   "id": "cfde41fd-7bc9-463d-90c7-9a2d371e3e59",
   "metadata": {},
   "outputs": [],
   "source": []
  },
  {
   "cell_type": "code",
   "execution_count": null,
   "id": "ece89826-a271-4466-8fcd-a5896d6d4ee5",
   "metadata": {},
   "outputs": [],
   "source": []
  },
  {
   "cell_type": "code",
   "execution_count": null,
   "id": "618ca2cd-7c04-4cd6-af33-f2c6ab376305",
   "metadata": {},
   "outputs": [],
   "source": []
  },
  {
   "cell_type": "code",
   "execution_count": null,
   "id": "04d3c85b-139f-4118-b91a-928c7ef87a4b",
   "metadata": {},
   "outputs": [],
   "source": []
  },
  {
   "cell_type": "code",
   "execution_count": null,
   "id": "a8eb38b3-024b-4b1a-9401-99827ec7a430",
   "metadata": {},
   "outputs": [],
   "source": []
  },
  {
   "cell_type": "code",
   "execution_count": null,
   "id": "511644a2-4ee8-49a3-84ca-8bb043bb62fc",
   "metadata": {},
   "outputs": [],
   "source": []
  },
  {
   "cell_type": "code",
   "execution_count": null,
   "id": "23b7fc95-a84e-42d1-b679-ff87821ccc95",
   "metadata": {},
   "outputs": [],
   "source": []
  },
  {
   "cell_type": "code",
   "execution_count": null,
   "id": "c2e6ab11-fb1e-4aae-be0a-99e2a06af225",
   "metadata": {},
   "outputs": [],
   "source": []
  },
  {
   "cell_type": "code",
   "execution_count": null,
   "id": "9e1fcdf9-491c-4701-8f05-c39c62608c93",
   "metadata": {},
   "outputs": [],
   "source": []
  },
  {
   "cell_type": "code",
   "execution_count": null,
   "id": "058c78fc-f3a2-4a8c-9f1e-49bdc4983638",
   "metadata": {},
   "outputs": [],
   "source": []
  },
  {
   "cell_type": "code",
   "execution_count": null,
   "id": "4b948613-2a2f-4e7a-bf25-2ba5ef02ffc5",
   "metadata": {},
   "outputs": [],
   "source": []
  },
  {
   "cell_type": "code",
   "execution_count": null,
   "id": "f1369398-de12-4d0f-b305-4a3b011d9882",
   "metadata": {},
   "outputs": [],
   "source": []
  },
  {
   "cell_type": "code",
   "execution_count": null,
   "id": "635ed931-d520-40db-934c-83f8f6b17a9c",
   "metadata": {},
   "outputs": [],
   "source": []
  }
 ],
 "metadata": {
  "kernelspec": {
   "display_name": "Python 3 (ipykernel)",
   "language": "python",
   "name": "python3"
  },
  "language_info": {
   "codemirror_mode": {
    "name": "ipython",
    "version": 3
   },
   "file_extension": ".py",
   "mimetype": "text/x-python",
   "name": "python",
   "nbconvert_exporter": "python",
   "pygments_lexer": "ipython3",
   "version": "3.9.7"
  }
 },
 "nbformat": 4,
 "nbformat_minor": 5
}
